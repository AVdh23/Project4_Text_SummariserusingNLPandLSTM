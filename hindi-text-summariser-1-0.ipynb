{
 "cells": [
  {
   "cell_type": "code",
   "execution_count": 1,
   "id": "a6065164",
   "metadata": {
    "execution": {
     "iopub.execute_input": "2022-07-10T14:36:01.586700Z",
     "iopub.status.busy": "2022-07-10T14:36:01.585271Z",
     "iopub.status.idle": "2022-07-10T14:36:09.396796Z",
     "shell.execute_reply": "2022-07-10T14:36:09.395598Z"
    },
    "papermill": {
     "duration": 7.831285,
     "end_time": "2022-07-10T14:36:09.400067",
     "exception": false,
     "start_time": "2022-07-10T14:36:01.568782",
     "status": "completed"
    },
    "scrolled": true,
    "tags": []
   },
   "outputs": [],
   "source": [
    "import pandas as pd\n",
    "import torch\n",
    "import random\n",
    "import numpy as np\n",
    "import tensorflow as tf\n",
    "import matplotlib.pyplot as plt"
   ]
  },
  {
   "cell_type": "code",
   "execution_count": 2,
   "id": "dd059c3c",
   "metadata": {
    "execution": {
     "iopub.execute_input": "2022-07-10T14:36:09.429053Z",
     "iopub.status.busy": "2022-07-10T14:36:09.427878Z",
     "iopub.status.idle": "2022-07-10T14:36:10.633276Z",
     "shell.execute_reply": "2022-07-10T14:36:10.631968Z"
    },
    "papermill": {
     "duration": 1.222887,
     "end_time": "2022-07-10T14:36:10.636242",
     "exception": false,
     "start_time": "2022-07-10T14:36:09.413355",
     "status": "completed"
    },
    "tags": []
   },
   "outputs": [
    {
     "name": "stdout",
     "output_type": "stream",
     "text": [
      "There are 10000 rows and 2 columns\n"
     ]
    }
   ],
   "source": [
    "nRowsRead = 10000 # specify 'None' if want to read whole file\n",
    "# test.csv may have more rows in reality, but we are only loading/previewing the first 1000 rows\n",
    "df1 = pd.read_csv(r\"C:\\Users\\Acer pc\\Downloads\\archive (1)\\test.csv\", delimiter=',', nrows = nRowsRead)\n",
    "df1.dataframeName = 'test.csv'\n",
    "nRow, nCol = df1.shape\n",
    "print(f'There are {nRow} rows and {nCol} columns')"
   ]
  },
  {
   "cell_type": "code",
   "execution_count": 3,
   "id": "e3237006",
   "metadata": {
    "execution": {
     "iopub.execute_input": "2022-07-10T14:36:10.666937Z",
     "iopub.status.busy": "2022-07-10T14:36:10.665062Z",
     "iopub.status.idle": "2022-07-10T14:36:10.686535Z",
     "shell.execute_reply": "2022-07-10T14:36:10.685342Z"
    },
    "papermill": {
     "duration": 0.038706,
     "end_time": "2022-07-10T14:36:10.689296",
     "exception": false,
     "start_time": "2022-07-10T14:36:10.650590",
     "status": "completed"
    },
    "tags": []
   },
   "outputs": [
    {
     "data": {
      "text/html": [
       "<div>\n",
       "<style scoped>\n",
       "    .dataframe tbody tr th:only-of-type {\n",
       "        vertical-align: middle;\n",
       "    }\n",
       "\n",
       "    .dataframe tbody tr th {\n",
       "        vertical-align: top;\n",
       "    }\n",
       "\n",
       "    .dataframe thead th {\n",
       "        text-align: right;\n",
       "    }\n",
       "</style>\n",
       "<table border=\"1\" class=\"dataframe\">\n",
       "  <thead>\n",
       "    <tr style=\"text-align: right;\">\n",
       "      <th></th>\n",
       "      <th>headline</th>\n",
       "      <th>article</th>\n",
       "    </tr>\n",
       "  </thead>\n",
       "  <tbody>\n",
       "    <tr>\n",
       "      <th>0</th>\n",
       "      <td>पठानकोट पहुंचे PM मोदी, एयरबेस का जायजा ले बॉर...</td>\n",
       "      <td>प्रधानमंत्री नरेंद्र मोदी पठानकोट एयरबेस पहुंच...</td>\n",
       "    </tr>\n",
       "    <tr>\n",
       "      <th>1</th>\n",
       "      <td>सचिन ने देशवासियों को समर्पित किया अपना दोहरा शतक</td>\n",
       "      <td>सचिन तेंदुलकर ने एकदिवसीय अंतरराष्ट्रीय क्रिके...</td>\n",
       "    </tr>\n",
       "    <tr>\n",
       "      <th>2</th>\n",
       "      <td>एनआईए करेगी छत्तीसगढ़ में सुरक्षा खामियों की ज...</td>\n",
       "      <td>केंद्रीय गृह राज्य मंत्री आर. पी. एन. सिंह ने ...</td>\n",
       "    </tr>\n",
       "    <tr>\n",
       "      <th>3</th>\n",
       "      <td>सीधी बात:  शाह बोले- हमारा बस चलता तो अब तक मं...</td>\n",
       "      <td>भारतीय जनता पार्टी (बीजेपी) के राष्ट्रीय अध्यक...</td>\n",
       "    </tr>\n",
       "    <tr>\n",
       "      <th>4</th>\n",
       "      <td>ऋषभ पंत के पास यूनिक टैलेंट, उसके साथ छेड़छाड़ न...</td>\n",
       "      <td>ऋषभ पंत की कभी कभार इस बात के लिए आलोचना की जा...</td>\n",
       "    </tr>\n",
       "  </tbody>\n",
       "</table>\n",
       "</div>"
      ],
      "text/plain": [
       "                                            headline  \\\n",
       "0  पठानकोट पहुंचे PM मोदी, एयरबेस का जायजा ले बॉर...   \n",
       "1  सचिन ने देशवासियों को समर्पित किया अपना दोहरा शतक   \n",
       "2  एनआईए करेगी छत्तीसगढ़ में सुरक्षा खामियों की ज...   \n",
       "3  सीधी बात:  शाह बोले- हमारा बस चलता तो अब तक मं...   \n",
       "4  ऋषभ पंत के पास यूनिक टैलेंट, उसके साथ छेड़छाड़ न...   \n",
       "\n",
       "                                             article  \n",
       "0  प्रधानमंत्री नरेंद्र मोदी पठानकोट एयरबेस पहुंच...  \n",
       "1  सचिन तेंदुलकर ने एकदिवसीय अंतरराष्ट्रीय क्रिके...  \n",
       "2  केंद्रीय गृह राज्य मंत्री आर. पी. एन. सिंह ने ...  \n",
       "3  भारतीय जनता पार्टी (बीजेपी) के राष्ट्रीय अध्यक...  \n",
       "4  ऋषभ पंत की कभी कभार इस बात के लिए आलोचना की जा...  "
      ]
     },
     "execution_count": 3,
     "metadata": {},
     "output_type": "execute_result"
    }
   ],
   "source": [
    "df1.head()"
   ]
  },
  {
   "cell_type": "code",
   "execution_count": 4,
   "id": "f6ba5ea2",
   "metadata": {
    "execution": {
     "iopub.execute_input": "2022-07-10T14:36:10.720554Z",
     "iopub.status.busy": "2022-07-10T14:36:10.718478Z",
     "iopub.status.idle": "2022-07-10T14:36:21.010565Z",
     "shell.execute_reply": "2022-07-10T14:36:21.008999Z"
    },
    "papermill": {
     "duration": 10.310674,
     "end_time": "2022-07-10T14:36:21.013928",
     "exception": false,
     "start_time": "2022-07-10T14:36:10.703254",
     "status": "completed"
    },
    "tags": []
   },
   "outputs": [
    {
     "name": "stdout",
     "output_type": "stream",
     "text": [
      "There are 100000 rows and 2 columns\n"
     ]
    }
   ],
   "source": [
    "nRowsRead = 100000 # specify 'None' if want to read whole file\n",
    "# train.csv may have more rows in reality, but we are only loading/previewing the first 1000 rows\n",
    "df = pd.read_csv(r\"C:\\Users\\Acer pc\\Downloads\\archive (1)\\train.csv\", delimiter=',', nrows = nRowsRead)\n",
    "df.dataframeName = 'train.csv'\n",
    "nRow, nCol = df.shape\n",
    "print(f'There are {nRow} rows and {nCol} columns')"
   ]
  },
  {
   "cell_type": "code",
   "execution_count": 5,
   "id": "f8622d45",
   "metadata": {
    "execution": {
     "iopub.execute_input": "2022-07-10T14:36:21.044253Z",
     "iopub.status.busy": "2022-07-10T14:36:21.043413Z",
     "iopub.status.idle": "2022-07-10T14:36:21.056404Z",
     "shell.execute_reply": "2022-07-10T14:36:21.054328Z"
    },
    "papermill": {
     "duration": 0.03021,
     "end_time": "2022-07-10T14:36:21.059118",
     "exception": false,
     "start_time": "2022-07-10T14:36:21.028908",
     "status": "completed"
    },
    "tags": []
   },
   "outputs": [
    {
     "data": {
      "text/html": [
       "<div>\n",
       "<style scoped>\n",
       "    .dataframe tbody tr th:only-of-type {\n",
       "        vertical-align: middle;\n",
       "    }\n",
       "\n",
       "    .dataframe tbody tr th {\n",
       "        vertical-align: top;\n",
       "    }\n",
       "\n",
       "    .dataframe thead th {\n",
       "        text-align: right;\n",
       "    }\n",
       "</style>\n",
       "<table border=\"1\" class=\"dataframe\">\n",
       "  <thead>\n",
       "    <tr style=\"text-align: right;\">\n",
       "      <th></th>\n",
       "      <th>headline</th>\n",
       "      <th>article</th>\n",
       "    </tr>\n",
       "  </thead>\n",
       "  <tbody>\n",
       "    <tr>\n",
       "      <th>0</th>\n",
       "      <td>EXCLUSIVE: दिल्ली में डीजल टैक्सियों पर बैन से...</td>\n",
       "      <td>दिल्ली में सुप्रीम कोर्ट के डीज़ल टैक्सियों को...</td>\n",
       "    </tr>\n",
       "    <tr>\n",
       "      <th>1</th>\n",
       "      <td>जॉर्डन: राष्ट्रपति मुखर्जी ने 86 करोड़ डॉलर के...</td>\n",
       "      <td>जॉर्डन के ऐतिहासिक दौरे पर पहुंचे राष्ट्रपति प...</td>\n",
       "    </tr>\n",
       "    <tr>\n",
       "      <th>2</th>\n",
       "      <td>UN में पाकिस्तान की राजदूत मलीहा लोधी ने कराई ...</td>\n",
       "      <td>पाकिस्तानी नेताओं को विवादित और हास्यास्पद बया...</td>\n",
       "    </tr>\n",
       "    <tr>\n",
       "      <th>3</th>\n",
       "      <td>38 देशों में पीएम नरेंद्र मोदी बायोपिक को रिली...</td>\n",
       "      <td>पीएम नरेंद्र मोदी बायोपिक में विवेक ओबेरॉय ने ...</td>\n",
       "    </tr>\n",
       "    <tr>\n",
       "      <th>4</th>\n",
       "      <td>13 अगस्त 2011: दिनभर की बड़ी खबरें पढ़ें</td>\n",
       "      <td>देश, दुनिया, महानगर, खेल, आर्थिक और बॉलीवुड मे...</td>\n",
       "    </tr>\n",
       "  </tbody>\n",
       "</table>\n",
       "</div>"
      ],
      "text/plain": [
       "                                            headline  \\\n",
       "0  EXCLUSIVE: दिल्ली में डीजल टैक्सियों पर बैन से...   \n",
       "1  जॉर्डन: राष्ट्रपति मुखर्जी ने 86 करोड़ डॉलर के...   \n",
       "2  UN में पाकिस्तान की राजदूत मलीहा लोधी ने कराई ...   \n",
       "3  38 देशों में पीएम नरेंद्र मोदी बायोपिक को रिली...   \n",
       "4           13 अगस्त 2011: दिनभर की बड़ी खबरें पढ़ें   \n",
       "\n",
       "                                             article  \n",
       "0  दिल्ली में सुप्रीम कोर्ट के डीज़ल टैक्सियों को...  \n",
       "1  जॉर्डन के ऐतिहासिक दौरे पर पहुंचे राष्ट्रपति प...  \n",
       "2  पाकिस्तानी नेताओं को विवादित और हास्यास्पद बया...  \n",
       "3  पीएम नरेंद्र मोदी बायोपिक में विवेक ओबेरॉय ने ...  \n",
       "4  देश, दुनिया, महानगर, खेल, आर्थिक और बॉलीवुड मे...  "
      ]
     },
     "execution_count": 5,
     "metadata": {},
     "output_type": "execute_result"
    }
   ],
   "source": [
    "df.head(5)"
   ]
  },
  {
   "cell_type": "code",
   "execution_count": 6,
   "id": "47dad3db",
   "metadata": {
    "execution": {
     "iopub.execute_input": "2022-07-10T14:36:21.087760Z",
     "iopub.status.busy": "2022-07-10T14:36:21.087337Z",
     "iopub.status.idle": "2022-07-10T14:36:21.533499Z",
     "shell.execute_reply": "2022-07-10T14:36:21.532082Z"
    },
    "papermill": {
     "duration": 0.463602,
     "end_time": "2022-07-10T14:36:21.536203",
     "exception": false,
     "start_time": "2022-07-10T14:36:21.072601",
     "status": "completed"
    },
    "tags": []
   },
   "outputs": [
    {
     "data": {
      "text/html": [
       "<div>\n",
       "<style scoped>\n",
       "    .dataframe tbody tr th:only-of-type {\n",
       "        vertical-align: middle;\n",
       "    }\n",
       "\n",
       "    .dataframe tbody tr th {\n",
       "        vertical-align: top;\n",
       "    }\n",
       "\n",
       "    .dataframe thead th {\n",
       "        text-align: right;\n",
       "    }\n",
       "</style>\n",
       "<table border=\"1\" class=\"dataframe\">\n",
       "  <thead>\n",
       "    <tr style=\"text-align: right;\">\n",
       "      <th></th>\n",
       "      <th>headline</th>\n",
       "      <th>article</th>\n",
       "    </tr>\n",
       "  </thead>\n",
       "  <tbody>\n",
       "    <tr>\n",
       "      <th>count</th>\n",
       "      <td>99992</td>\n",
       "      <td>100000</td>\n",
       "    </tr>\n",
       "    <tr>\n",
       "      <th>unique</th>\n",
       "      <td>99510</td>\n",
       "      <td>99987</td>\n",
       "    </tr>\n",
       "    <tr>\n",
       "      <th>top</th>\n",
       "      <td>Tech Wrap: यहां जानें आज की 5 बड़ी खबरें</td>\n",
       "      <td>हमारे साझेदार 'अनरियल टाइम्स' की खास व्यंग्यात...</td>\n",
       "    </tr>\n",
       "    <tr>\n",
       "      <th>freq</th>\n",
       "      <td>159</td>\n",
       "      <td>3</td>\n",
       "    </tr>\n",
       "  </tbody>\n",
       "</table>\n",
       "</div>"
      ],
      "text/plain": [
       "                                        headline  \\\n",
       "count                                      99992   \n",
       "unique                                     99510   \n",
       "top     Tech Wrap: यहां जानें आज की 5 बड़ी खबरें   \n",
       "freq                                         159   \n",
       "\n",
       "                                                  article  \n",
       "count                                              100000  \n",
       "unique                                              99987  \n",
       "top     हमारे साझेदार 'अनरियल टाइम्स' की खास व्यंग्यात...  \n",
       "freq                                                    3  "
      ]
     },
     "execution_count": 6,
     "metadata": {},
     "output_type": "execute_result"
    }
   ],
   "source": [
    "df.describe()"
   ]
  },
  {
   "cell_type": "code",
   "execution_count": 7,
   "id": "7d1a4250",
   "metadata": {
    "execution": {
     "iopub.execute_input": "2022-07-10T14:36:21.566519Z",
     "iopub.status.busy": "2022-07-10T14:36:21.566126Z",
     "iopub.status.idle": "2022-07-10T14:36:21.614255Z",
     "shell.execute_reply": "2022-07-10T14:36:21.612773Z"
    },
    "papermill": {
     "duration": 0.067537,
     "end_time": "2022-07-10T14:36:21.618587",
     "exception": false,
     "start_time": "2022-07-10T14:36:21.551050",
     "status": "completed"
    },
    "tags": []
   },
   "outputs": [
    {
     "name": "stdout",
     "output_type": "stream",
     "text": [
      "<class 'pandas.core.frame.DataFrame'>\n",
      "RangeIndex: 100000 entries, 0 to 99999\n",
      "Data columns (total 2 columns):\n",
      " #   Column    Non-Null Count   Dtype \n",
      "---  ------    --------------   ----- \n",
      " 0   headline  99992 non-null   object\n",
      " 1   article   100000 non-null  object\n",
      "dtypes: object(2)\n",
      "memory usage: 1.5+ MB\n"
     ]
    }
   ],
   "source": [
    "df.info()"
   ]
  },
  {
   "cell_type": "code",
   "execution_count": 8,
   "id": "5ff9d457",
   "metadata": {
    "execution": {
     "iopub.execute_input": "2022-07-10T14:36:21.649575Z",
     "iopub.status.busy": "2022-07-10T14:36:21.649221Z",
     "iopub.status.idle": "2022-07-10T14:36:21.660902Z",
     "shell.execute_reply": "2022-07-10T14:36:21.659289Z"
    },
    "papermill": {
     "duration": 0.030331,
     "end_time": "2022-07-10T14:36:21.664412",
     "exception": false,
     "start_time": "2022-07-10T14:36:21.634081",
     "status": "completed"
    },
    "tags": []
   },
   "outputs": [],
   "source": [
    "import re\n",
    "def preprocess_tokenize(text):\n",
    "      # for removing punctuation from sentencesc\n",
    "    text = str(text)\n",
    "    text = re.sub(r'(\\d+)', r'', text)\n",
    "    \n",
    "    text = text.replace('\\n', '')\n",
    "    text = text.replace('\\r', '')\n",
    "    text = text.replace('\\t', '')\n",
    "    text = text.replace('\\u200d', '')\n",
    "    text=re.sub(\"(__+)\", ' ', str(text)).lower()   #remove _ if it occors more than one time consecutively\n",
    "    text=re.sub(\"(--+)\", ' ', str(text)).lower()   #remove - if it occors more than one time consecutively\n",
    "    text=re.sub(\"(~~+)\", ' ', str(text)).lower()   #remove ~ if it occors more than one time consecutively\n",
    "    text=re.sub(\"(\\+\\++)\", ' ', str(text)).lower()   #remove + if it occors more than one time consecutively\n",
    "    text=re.sub(\"(\\.\\.+)\", ' ', str(text)).lower()   #remove . if it occors more than one time consecutively\n",
    "        \n",
    "    text=re.sub(r\"[<>()|&©@#ø\\[\\]\\'\\\",;:?.~*!]\", ' ', str(text)).lower() #remove <>()|&©ø\"',;?~*!\n",
    "    text = re.sub(\"([a-zA-Z])\",' ',str(text)).lower()\n",
    "    text = re.sub(\"(\\s+)\",' ',str(text)).lower()\n",
    "    #text = text.split(' ')\n",
    "    #text = [x for x in text if(x!='')]\n",
    "    #text.insert(0,'<sos>')\n",
    "    #text.insert(len(text),'<eos>')\n",
    "    return text"
   ]
  },
  {
   "cell_type": "code",
   "execution_count": 9,
   "id": "b36c5813",
   "metadata": {
    "execution": {
     "iopub.execute_input": "2022-07-10T14:36:21.693348Z",
     "iopub.status.busy": "2022-07-10T14:36:21.693040Z",
     "iopub.status.idle": "2022-07-10T14:36:21.771756Z",
     "shell.execute_reply": "2022-07-10T14:36:21.770227Z"
    },
    "papermill": {
     "duration": 0.097237,
     "end_time": "2022-07-10T14:36:21.775388",
     "exception": false,
     "start_time": "2022-07-10T14:36:21.678151",
     "status": "completed"
    },
    "tags": []
   },
   "outputs": [
    {
     "name": "stdout",
     "output_type": "stream",
     "text": [
      "cpu\n"
     ]
    }
   ],
   "source": [
    "device = torch.device('cuda' if torch.cuda.is_available() else 'cpu')\n",
    "print(device)"
   ]
  },
  {
   "cell_type": "code",
   "execution_count": 10,
   "id": "4dd7a1e9",
   "metadata": {
    "execution": {
     "iopub.execute_input": "2022-07-10T14:36:21.806212Z",
     "iopub.status.busy": "2022-07-10T14:36:21.805891Z",
     "iopub.status.idle": "2022-07-10T14:36:21.811107Z",
     "shell.execute_reply": "2022-07-10T14:36:21.809630Z"
    },
    "papermill": {
     "duration": 0.023112,
     "end_time": "2022-07-10T14:36:21.813605",
     "exception": false,
     "start_time": "2022-07-10T14:36:21.790493",
     "status": "completed"
    },
    "tags": []
   },
   "outputs": [],
   "source": [
    "train_data_src = df['headline']\n",
    "train_data_trg = df['article']"
   ]
  },
  {
   "cell_type": "code",
   "execution_count": 11,
   "id": "f70b29e2",
   "metadata": {
    "execution": {
     "iopub.execute_input": "2022-07-10T14:36:21.844132Z",
     "iopub.status.busy": "2022-07-10T14:36:21.843045Z",
     "iopub.status.idle": "2022-07-10T14:37:21.520375Z",
     "shell.execute_reply": "2022-07-10T14:37:21.519022Z"
    },
    "papermill": {
     "duration": 59.695844,
     "end_time": "2022-07-10T14:37:21.523654",
     "exception": false,
     "start_time": "2022-07-10T14:36:21.827810",
     "status": "completed"
    },
    "tags": []
   },
   "outputs": [],
   "source": [
    "tokenized_corpus_src = [preprocess_tokenize(x) for x in train_data_src]  #these are headlines\n",
    "tokenized_corpus_trg = [preprocess_tokenize(x) for x in train_data_trg] # these are articles"
   ]
  },
  {
   "cell_type": "code",
   "execution_count": 12,
   "id": "8a7f067a",
   "metadata": {
    "execution": {
     "iopub.execute_input": "2022-07-10T14:37:21.555139Z",
     "iopub.status.busy": "2022-07-10T14:37:21.553819Z",
     "iopub.status.idle": "2022-07-10T14:37:25.251033Z",
     "shell.execute_reply": "2022-07-10T14:37:25.249714Z"
    },
    "papermill": {
     "duration": 3.715338,
     "end_time": "2022-07-10T14:37:25.253616",
     "exception": false,
     "start_time": "2022-07-10T14:37:21.538278",
     "status": "completed"
    },
    "tags": []
   },
   "outputs": [
    {
     "data": {
      "image/png": "[encoded data removed]",
      "text/plain": [
       "<Figure size 640x480 with 2 Axes>"
      ]
     },
     "metadata": {},
     "output_type": "display_data"
    }
   ],
   "source": [
    "text_word_count = []\n",
    "summary_word_count = []\n",
    "\n",
    "# populate the lists with sentence lengths\n",
    "for i in tokenized_corpus_trg:\n",
    "      text_word_count.append(len(i.split()))\n",
    "\n",
    "for i in tokenized_corpus_src:\n",
    "      summary_word_count.append(len(i.split()))\n",
    "\n",
    "length_df = pd.DataFrame({'text':text_word_count, 'summary':summary_word_count})\n",
    "\n",
    "length_df.hist(bins = 30)\n",
    "plt.show()"
   ]
  },
  {
   "cell_type": "code",
   "execution_count": 13,
   "id": "e78e4186",
   "metadata": {
    "execution": {
     "iopub.execute_input": "2022-07-10T14:37:25.284097Z",
     "iopub.status.busy": "2022-07-10T14:37:25.283788Z",
     "iopub.status.idle": "2022-07-10T14:37:25.329612Z",
     "shell.execute_reply": "2022-07-10T14:37:25.328099Z"
    },
    "papermill": {
     "duration": 0.065947,
     "end_time": "2022-07-10T14:37:25.333869",
     "exception": false,
     "start_time": "2022-07-10T14:37:25.267922",
     "status": "completed"
    },
    "tags": []
   },
   "outputs": [
    {
     "name": "stdout",
     "output_type": "stream",
     "text": [
      "::::: Text_Cleaned :::::\n",
      "0    दिल्ली में सुप्रीम कोर्ट के डीज़ल टैक्सियों को...\n",
      "1    जॉर्डन के ऐतिहासिक दौरे पर पहुंचे राष्ट्रपति प...\n",
      "2    पाकिस्तानी नेताओं को विवादित और हास्यास्पद बया...\n",
      "3    पीएम नरेंद्र मोदी बायोपिक में विवेक ओबेरॉय ने ...\n",
      "4    देश दुनिया महानगर खेल आर्थिक और बॉलीवुड में क्...\n",
      "Name: Text_Cleaned, dtype: object \n",
      "\n",
      "::::: Summary :::::\n",
      "0     दिल्ली में डीजल टैक्सियों पर बैन से मुश्किल म...\n",
      "1    जॉर्डन राष्ट्रपति मुखर्जी ने करोड़ डॉलर के संय...\n",
      "2     में पाकिस्तान की राजदूत मलीहा लोधी ने कराई फज...\n",
      "3     देशों में पीएम नरेंद्र मोदी बायोपिक को रिलीज ...\n",
      "4                      अगस्त दिनभर की बड़ी खबरें पढ़ें\n",
      "Name: Summary_Cleaned, dtype: object \n",
      "\n"
     ]
    }
   ],
   "source": [
    "df['Text_Cleaned'] = tokenized_corpus_trg  \n",
    "print(\"::::: Text_Cleaned :::::\")\n",
    "print(df['Text_Cleaned'][0:5], \"\\n\")\n",
    "\n",
    "\n",
    "df['Summary_Cleaned'] =  tokenized_corpus_src \n",
    "print(\"::::: Summary :::::\")\n",
    "print(df['Summary_Cleaned'][0:5], \"\\n\")\n",
    "\n",
    "corpus = list(df['Text_Cleaned'])"
   ]
  },
  {
   "cell_type": "code",
   "execution_count": 14,
   "id": "b6d8a6ea",
   "metadata": {
    "execution": {
     "iopub.execute_input": "2022-07-10T14:37:25.364502Z",
     "iopub.status.busy": "2022-07-10T14:37:25.364193Z",
     "iopub.status.idle": "2022-07-10T14:37:25.371396Z",
     "shell.execute_reply": "2022-07-10T14:37:25.369926Z"
    },
    "papermill": {
     "duration": 0.026583,
     "end_time": "2022-07-10T14:37:25.375390",
     "exception": false,
     "start_time": "2022-07-10T14:37:25.348807",
     "status": "completed"
    },
    "tags": []
   },
   "outputs": [
    {
     "name": "stdout",
     "output_type": "stream",
     "text": [
      "दिल्ली में सुप्रीम कोर्ट के डीज़ल टैक्सियों को बंद करने के फैसले के बाद हजारों टैक्सी ड्राइवरों की रोजी रोटी पर तो असर पड़ा ही है लेकिन अब दिल्ली पर एक और नई मुसीबत आ गई है चुनाव आयोग राजधानी के वार्ड में उपचुनाव करवा रहा है लेकिन चुनावों से दो हफ्ते पहले चुनाव आयोग में कामकाज ठप्प हो गया है कमीशन ने किराए पर ली थी डीजल गाड़ियांदरअसल कमीशन ने लगभग सौ गाड़ियां चुनाव के कामकाज को करने के लिए किराए पर लीं जिनमें सभीडीज़ल से चलने वाली टैक्सीथी इन्हीं टैक्सियों से चुनाव अधिकारी से लेकर चुनावों का जिम्मा संभालने वाले बाकी कर्मचारी भी एक जगह से दूसरी जगह आते जाते थे अचानक चुनावों से ठीक पहले आई इस परेशानी ने दिल्ली चुनाव आयोग का कामकाज ही ठप्प कर दिया है रियायत के लिए की जा सकती है मांगदिल्ली के राज्य चुनाव अधिकारी राकेश मेहता ने इस मुश्किल का रास्ता निकालने के लिए मंगलवार को दिल्ली के पुलिस कमिश्नर और ट्रांसपोर्ट कमिश्नर की बैठक बुलाई है इस बैठक में राज्य चुनाव आयुक्त मई को होने वाले चुनावों को लेकरगाड़ियों की उपलब्धताको लेकर पुलिस और सरकार से समाधान निकालने के लिए भी कहेंगे चुनाव आयोग इन दोनों एजेंसियों को कह सकता है कि चूंकि चुनाव में अब दो हफ्ते का भी वक्त नहीं बचा है ऐसे में इन गाड़ियों को बैन से रियायत दी जाए \n"
     ]
    }
   ],
   "source": [
    "print(df['Text_Cleaned'][0])"
   ]
  },
  {
   "cell_type": "code",
   "execution_count": 15,
   "id": "fbeb6fe5",
   "metadata": {
    "execution": {
     "iopub.execute_input": "2022-07-10T14:37:25.406982Z",
     "iopub.status.busy": "2022-07-10T14:37:25.406603Z",
     "iopub.status.idle": "2022-07-10T14:37:25.412688Z",
     "shell.execute_reply": "2022-07-10T14:37:25.411388Z"
    },
    "papermill": {
     "duration": 0.024592,
     "end_time": "2022-07-10T14:37:25.415621",
     "exception": false,
     "start_time": "2022-07-10T14:37:25.391029",
     "status": "completed"
    },
    "tags": []
   },
   "outputs": [
    {
     "name": "stdout",
     "output_type": "stream",
     "text": [
      " दिल्ली में डीजल टैक्सियों पर बैन से मुश्किल में पड़ा चुनाव आयोग\n"
     ]
    }
   ],
   "source": [
    "print(df['Summary_Cleaned'][0])"
   ]
  },
  {
   "cell_type": "code",
   "execution_count": 16,
   "id": "44f7786b",
   "metadata": {
    "execution": {
     "iopub.execute_input": "2022-07-10T14:37:25.446191Z",
     "iopub.status.busy": "2022-07-10T14:37:25.445854Z",
     "iopub.status.idle": "2022-07-10T14:37:28.694980Z",
     "shell.execute_reply": "2022-07-10T14:37:28.693616Z"
    },
    "papermill": {
     "duration": 3.268094,
     "end_time": "2022-07-10T14:37:28.698211",
     "exception": false,
     "start_time": "2022-07-10T14:37:25.430117",
     "status": "completed"
    },
    "tags": []
   },
   "outputs": [],
   "source": [
    "text_count = []\n",
    "summary_count = []\n",
    "\n",
    "for sent in df['Text_Cleaned']:\n",
    "    text_count.append(len(sent.split()))\n",
    "for sent in df['Summary_Cleaned']:\n",
    "    summary_count.append(len(sent.split()))\n",
    "\n",
    "graph_df = pd.DataFrame()\n",
    "graph_df['text'] = text_count\n",
    "graph_df['summary'] = summary_count"
   ]
  },
  {
   "cell_type": "code",
   "execution_count": 17,
   "id": "f906db21",
   "metadata": {
    "execution": {
     "iopub.execute_input": "2022-07-10T14:37:28.730473Z",
     "iopub.status.busy": "2022-07-10T14:37:28.729662Z",
     "iopub.status.idle": "2022-07-10T14:37:28.747592Z",
     "shell.execute_reply": "2022-07-10T14:37:28.746052Z"
    },
    "papermill": {
     "duration": 0.037123,
     "end_time": "2022-07-10T14:37:28.750729",
     "exception": false,
     "start_time": "2022-07-10T14:37:28.713606",
     "status": "completed"
    },
    "tags": []
   },
   "outputs": [
    {
     "data": {
      "text/plain": [
       "count    100000.000000\n",
       "mean        345.238200\n",
       "std         308.739341\n",
       "min           0.000000\n",
       "25%         195.000000\n",
       "50%         280.000000\n",
       "75%         395.000000\n",
       "max        8505.000000\n",
       "Name: text, dtype: float64"
      ]
     },
     "execution_count": 17,
     "metadata": {},
     "output_type": "execute_result"
    }
   ],
   "source": [
    "graph_df['text'].describe()"
   ]
  },
  {
   "cell_type": "code",
   "execution_count": 18,
   "id": "a898052f",
   "metadata": {
    "execution": {
     "iopub.execute_input": "2022-07-10T14:37:28.782091Z",
     "iopub.status.busy": "2022-07-10T14:37:28.781764Z",
     "iopub.status.idle": "2022-07-10T14:37:28.797318Z",
     "shell.execute_reply": "2022-07-10T14:37:28.795483Z"
    },
    "papermill": {
     "duration": 0.034292,
     "end_time": "2022-07-10T14:37:28.800051",
     "exception": false,
     "start_time": "2022-07-10T14:37:28.765759",
     "status": "completed"
    },
    "tags": []
   },
   "outputs": [
    {
     "data": {
      "text/plain": [
       "count    100000.00000\n",
       "mean         10.84903\n",
       "std           2.97927\n",
       "min           0.00000\n",
       "25%           9.00000\n",
       "50%          11.00000\n",
       "75%          13.00000\n",
       "max          22.00000\n",
       "Name: summary, dtype: float64"
      ]
     },
     "execution_count": 18,
     "metadata": {},
     "output_type": "execute_result"
    }
   ],
   "source": [
    "graph_df['summary'].describe()"
   ]
  },
  {
   "cell_type": "code",
   "execution_count": 19,
   "id": "09cfe670",
   "metadata": {
    "execution": {
     "iopub.execute_input": "2022-07-10T14:37:28.834192Z",
     "iopub.status.busy": "2022-07-10T14:37:28.832071Z",
     "iopub.status.idle": "2022-07-10T14:37:29.128941Z",
     "shell.execute_reply": "2022-07-10T14:37:29.127576Z"
    },
    "papermill": {
     "duration": 0.316026,
     "end_time": "2022-07-10T14:37:29.131582",
     "exception": false,
     "start_time": "2022-07-10T14:37:28.815556",
     "status": "completed"
    },
    "tags": []
   },
   "outputs": [
    {
     "data": {
      "image/png": "[encoded data removed]",
      "text/plain": [
       "<Figure size 640x480 with 1 Axes>"
      ]
     },
     "metadata": {},
     "output_type": "display_data"
    }
   ],
   "source": [
    "graph_df['text'].hist(bins = 25, range=(0, 300))\n",
    "plt.show()"
   ]
  },
  {
   "cell_type": "code",
   "execution_count": 20,
   "id": "9cd23475",
   "metadata": {
    "execution": {
     "iopub.execute_input": "2022-07-10T14:37:29.165247Z",
     "iopub.status.busy": "2022-07-10T14:37:29.163676Z",
     "iopub.status.idle": "2022-07-10T14:37:29.406026Z",
     "shell.execute_reply": "2022-07-10T14:37:29.404754Z"
    },
    "papermill": {
     "duration": 0.261621,
     "end_time": "2022-07-10T14:37:29.408756",
     "exception": false,
     "start_time": "2022-07-10T14:37:29.147135",
     "status": "completed"
    },
    "tags": []
   },
   "outputs": [
    {
     "data": {
      "image/png": "[encoded data removed]",
      "text/plain": [
       "<Figure size 640x480 with 1 Axes>"
      ]
     },
     "metadata": {},
     "output_type": "display_data"
    }
   ],
   "source": [
    "graph_df['summary'].hist(bins = 15, range=(0, 20))\n",
    "plt.show()"
   ]
  },
  {
   "cell_type": "code",
   "execution_count": 21,
   "id": "c5438a26",
   "metadata": {
    "execution": {
     "iopub.execute_input": "2022-07-10T14:37:29.443173Z",
     "iopub.status.busy": "2022-07-10T14:37:29.441215Z",
     "iopub.status.idle": "2022-07-10T14:37:29.482227Z",
     "shell.execute_reply": "2022-07-10T14:37:29.480496Z"
    },
    "papermill": {
     "duration": 0.060284,
     "end_time": "2022-07-10T14:37:29.484898",
     "exception": false,
     "start_time": "2022-07-10T14:37:29.424614",
     "status": "completed"
    },
    "tags": []
   },
   "outputs": [
    {
     "name": "stdout",
     "output_type": "stream",
     "text": [
      "0.55835\n"
     ]
    }
   ],
   "source": [
    "count = 0\n",
    "for i in graph_df['text']:\n",
    "    if i > 10 and i <= 300:\n",
    "        count = count + 1\n",
    "print(count / len(graph_df['text']))"
   ]
  },
  {
   "cell_type": "code",
   "execution_count": 22,
   "id": "1406e28b",
   "metadata": {
    "execution": {
     "iopub.execute_input": "2022-07-10T14:37:29.518176Z",
     "iopub.status.busy": "2022-07-10T14:37:29.517245Z",
     "iopub.status.idle": "2022-07-10T14:37:29.561061Z",
     "shell.execute_reply": "2022-07-10T14:37:29.559528Z"
    },
    "papermill": {
     "duration": 0.06358,
     "end_time": "2022-07-10T14:37:29.564136",
     "exception": false,
     "start_time": "2022-07-10T14:37:29.500556",
     "status": "completed"
    },
    "tags": []
   },
   "outputs": [
    {
     "name": "stdout",
     "output_type": "stream",
     "text": [
      "0.97472\n"
     ]
    }
   ],
   "source": [
    "count = 0\n",
    "for i in graph_df['summary']:\n",
    "    if i > 1 and i <= 16:\n",
    "        count = count + 1\n",
    "print(count / len(graph_df['summary']))"
   ]
  },
  {
   "cell_type": "code",
   "execution_count": 23,
   "id": "4603880b",
   "metadata": {
    "execution": {
     "iopub.execute_input": "2022-07-10T14:37:29.598158Z",
     "iopub.status.busy": "2022-07-10T14:37:29.597592Z",
     "iopub.status.idle": "2022-07-10T14:37:29.603084Z",
     "shell.execute_reply": "2022-07-10T14:37:29.601504Z"
    },
    "papermill": {
     "duration": 0.025443,
     "end_time": "2022-07-10T14:37:29.605682",
     "exception": false,
     "start_time": "2022-07-10T14:37:29.580239",
     "status": "completed"
    },
    "tags": []
   },
   "outputs": [],
   "source": [
    "max_text_len = 300\n",
    "max_summary_len = 16"
   ]
  },
  {
   "cell_type": "code",
   "execution_count": 24,
   "id": "51f4e583",
   "metadata": {},
   "outputs": [
    {
     "name": "stdout",
     "output_type": "stream",
     "text": [
      "Requirement already satisfied: keras-preprocessing in c:\\users\\acer pc\\anaconda3\\lib\\site-packages (1.1.2)\n",
      "Requirement already satisfied: six>=1.9.0 in c:\\users\\acer pc\\anaconda3\\lib\\site-packages (from keras-preprocessing) (1.16.0)\n",
      "Requirement already satisfied: numpy>=1.9.1 in c:\\users\\acer pc\\anaconda3\\lib\\site-packages (from keras-preprocessing) (1.21.5)\n",
      "Note: you may need to restart the kernel to use updated packages.\n"
     ]
    }
   ],
   "source": [
    "pip install keras-preprocessing\n"
   ]
  },
  {
   "cell_type": "code",
   "execution_count": 25,
   "id": "8f52fb36",
   "metadata": {
    "execution": {
     "iopub.execute_input": "2022-07-10T14:37:29.637959Z",
     "iopub.status.busy": "2022-07-10T14:37:29.637606Z",
     "iopub.status.idle": "2022-07-10T14:37:33.271341Z",
     "shell.execute_reply": "2022-07-10T14:37:33.270012Z"
    },
    "papermill": {
     "duration": 3.653086,
     "end_time": "2022-07-10T14:37:33.274229",
     "exception": false,
     "start_time": "2022-07-10T14:37:29.621143",
     "status": "completed"
    },
    "tags": []
   },
   "outputs": [],
   "source": [
    "cleaned_text = np.array(df['Text_Cleaned'])\n",
    "cleaned_summary = np.array(df['Summary_Cleaned'])\n",
    "\n",
    "short_text = []\n",
    "short_summary = []\n",
    "\n",
    "for i in range(len(cleaned_text)):\n",
    "    if(len(cleaned_summary[i].split()) <= max_summary_len \n",
    "       and len(cleaned_summary[i].split()) > 1 \n",
    "       and len(cleaned_text[i].split()) <= max_text_len ):\n",
    "        short_text.append(cleaned_text[i])\n",
    "        short_summary.append(cleaned_summary[i])\n",
    "        \n",
    "post_pre = pd.DataFrame({'text':short_text,'summary':short_summary})"
   ]
  },
  {
   "cell_type": "code",
   "execution_count": 26,
   "id": "6459fd12",
   "metadata": {
    "execution": {
     "iopub.execute_input": "2022-07-10T14:37:33.307744Z",
     "iopub.status.busy": "2022-07-10T14:37:33.307327Z",
     "iopub.status.idle": "2022-07-10T14:37:33.350046Z",
     "shell.execute_reply": "2022-07-10T14:37:33.348729Z"
    },
    "papermill": {
     "duration": 0.062297,
     "end_time": "2022-07-10T14:37:33.352963",
     "exception": false,
     "start_time": "2022-07-10T14:37:33.290666",
     "status": "completed"
    },
    "tags": []
   },
   "outputs": [],
   "source": [
    "post_pre['summary'] = post_pre['summary'].apply(lambda x : 'sostok '+ x + ' eostok')"
   ]
  },
  {
   "cell_type": "code",
   "execution_count": 27,
   "id": "3e0cbbad",
   "metadata": {
    "execution": {
     "iopub.execute_input": "2022-07-10T14:37:33.386862Z",
     "iopub.status.busy": "2022-07-10T14:37:33.385669Z",
     "iopub.status.idle": "2022-07-10T14:37:33.394486Z",
     "shell.execute_reply": "2022-07-10T14:37:33.393047Z"
    },
    "papermill": {
     "duration": 0.02815,
     "end_time": "2022-07-10T14:37:33.397131",
     "exception": false,
     "start_time": "2022-07-10T14:37:33.368981",
     "status": "completed"
    },
    "tags": []
   },
   "outputs": [
    {
     "data": {
      "text/plain": [
       "(54952, 2)"
      ]
     },
     "execution_count": 27,
     "metadata": {},
     "output_type": "execute_result"
    }
   ],
   "source": [
    "post_pre.shape"
   ]
  },
  {
   "cell_type": "code",
   "execution_count": 28,
   "id": "4f1ebdc8",
   "metadata": {
    "execution": {
     "iopub.execute_input": "2022-07-10T14:37:33.430260Z",
     "iopub.status.busy": "2022-07-10T14:37:33.429937Z",
     "iopub.status.idle": "2022-07-10T14:37:33.437289Z",
     "shell.execute_reply": "2022-07-10T14:37:33.435910Z"
    },
    "papermill": {
     "duration": 0.026845,
     "end_time": "2022-07-10T14:37:33.440039",
     "exception": false,
     "start_time": "2022-07-10T14:37:33.413194",
     "status": "completed"
    },
    "tags": []
   },
   "outputs": [
    {
     "data": {
      "text/plain": [
       "(54952, 2)"
      ]
     },
     "execution_count": 28,
     "metadata": {},
     "output_type": "execute_result"
    }
   ],
   "source": [
    "post_pre.shape"
   ]
  },
  {
   "cell_type": "code",
   "execution_count": 29,
   "id": "0e59f3cd",
   "metadata": {
    "execution": {
     "iopub.execute_input": "2022-07-10T14:37:33.472999Z",
     "iopub.status.busy": "2022-07-10T14:37:33.472640Z",
     "iopub.status.idle": "2022-07-10T14:37:34.839782Z",
     "shell.execute_reply": "2022-07-10T14:37:34.838472Z"
    },
    "papermill": {
     "duration": 1.386837,
     "end_time": "2022-07-10T14:37:34.842788",
     "exception": false,
     "start_time": "2022-07-10T14:37:33.455951",
     "status": "completed"
    },
    "tags": []
   },
   "outputs": [],
   "source": [
    "from sklearn.model_selection import train_test_split\n",
    "from keras.preprocessing.text import Tokenizer \n",
    "from keras_preprocessing.sequence import pad_sequences\n",
    "\n",
    "# train test split\n",
    "x_tr, x_test, y_tr, y_test = train_test_split(np.array(post_pre['text']),\n",
    "                                         np.array(post_pre['summary']),\n",
    "                                         test_size = 0.2,\n",
    "                                         random_state = 0,\n",
    "                                         shuffle = True)\n",
    "# train validation split\n",
    "x_tr,x_val,y_tr,y_val = train_test_split(x_tr,\n",
    "                                         y_tr,\n",
    "                                         test_size = 0.2,\n",
    "                                         random_state = 0,\n",
    "                                         shuffle = True)"
   ]
  },
  {
   "cell_type": "code",
   "execution_count": 30,
   "id": "4fc6939a",
   "metadata": {
    "execution": {
     "iopub.execute_input": "2022-07-10T14:37:34.878162Z",
     "iopub.status.busy": "2022-07-10T14:37:34.876053Z",
     "iopub.status.idle": "2022-07-10T14:37:34.884861Z",
     "shell.execute_reply": "2022-07-10T14:37:34.883521Z"
    },
    "papermill": {
     "duration": 0.028143,
     "end_time": "2022-07-10T14:37:34.887450",
     "exception": false,
     "start_time": "2022-07-10T14:37:34.859307",
     "status": "completed"
    },
    "tags": []
   },
   "outputs": [
    {
     "data": {
      "text/plain": [
       "(35168,)"
      ]
     },
     "execution_count": 30,
     "metadata": {},
     "output_type": "execute_result"
    }
   ],
   "source": [
    "x_tr.shape"
   ]
  },
  {
   "cell_type": "code",
   "execution_count": 31,
   "id": "89833d02",
   "metadata": {
    "execution": {
     "iopub.execute_input": "2022-07-10T14:37:34.921972Z",
     "iopub.status.busy": "2022-07-10T14:37:34.920149Z",
     "iopub.status.idle": "2022-07-10T14:37:34.928685Z",
     "shell.execute_reply": "2022-07-10T14:37:34.927233Z"
    },
    "papermill": {
     "duration": 0.028004,
     "end_time": "2022-07-10T14:37:34.931324",
     "exception": false,
     "start_time": "2022-07-10T14:37:34.903320",
     "status": "completed"
    },
    "tags": []
   },
   "outputs": [
    {
     "data": {
      "text/plain": [
       "(10991,)"
      ]
     },
     "execution_count": 31,
     "metadata": {},
     "output_type": "execute_result"
    }
   ],
   "source": [
    "x_test.shape"
   ]
  },
  {
   "cell_type": "code",
   "execution_count": 32,
   "id": "176ccf4a",
   "metadata": {
    "execution": {
     "iopub.execute_input": "2022-07-10T14:37:34.965030Z",
     "iopub.status.busy": "2022-07-10T14:37:34.964217Z",
     "iopub.status.idle": "2022-07-10T14:37:34.971521Z",
     "shell.execute_reply": "2022-07-10T14:37:34.970218Z"
    },
    "papermill": {
     "duration": 0.026963,
     "end_time": "2022-07-10T14:37:34.974052",
     "exception": false,
     "start_time": "2022-07-10T14:37:34.947089",
     "status": "completed"
    },
    "tags": []
   },
   "outputs": [
    {
     "data": {
      "text/plain": [
       "(8793,)"
      ]
     },
     "execution_count": 32,
     "metadata": {},
     "output_type": "execute_result"
    }
   ],
   "source": [
    "x_val.shape"
   ]
  },
  {
   "cell_type": "code",
   "execution_count": 33,
   "id": "9e02d821",
   "metadata": {
    "execution": {
     "iopub.execute_input": "2022-07-10T14:37:35.007476Z",
     "iopub.status.busy": "2022-07-10T14:37:35.006347Z",
     "iopub.status.idle": "2022-07-10T14:37:45.977021Z",
     "shell.execute_reply": "2022-07-10T14:37:45.975738Z"
    },
    "papermill": {
     "duration": 10.990562,
     "end_time": "2022-07-10T14:37:45.980178",
     "exception": false,
     "start_time": "2022-07-10T14:37:34.989616",
     "status": "completed"
    },
    "tags": []
   },
   "outputs": [],
   "source": [
    "# Tokenize text to get the vocab count\n",
    "#prepare a tokenizer for training data\n",
    "x_tokenizer = Tokenizer() \n",
    "x_tokenizer.fit_on_texts(list(x_tr))\n",
    "\n",
    "#prepare a tokenizer for reviews on training data\n",
    "y_tokenizer = Tokenizer()   \n",
    "y_tokenizer.fit_on_texts(list(y_tr))"
   ]
  },
  {
   "cell_type": "code",
   "execution_count": 34,
   "id": "f755882b",
   "metadata": {
    "execution": {
     "iopub.execute_input": "2022-07-10T14:37:46.014964Z",
     "iopub.status.busy": "2022-07-10T14:37:46.014603Z",
     "iopub.status.idle": "2022-07-10T14:37:46.139132Z",
     "shell.execute_reply": "2022-07-10T14:37:46.137706Z"
    },
    "papermill": {
     "duration": 0.145921,
     "end_time": "2022-07-10T14:37:46.142990",
     "exception": false,
     "start_time": "2022-07-10T14:37:45.997069",
     "status": "completed"
    },
    "tags": []
   },
   "outputs": [
    {
     "name": "stdout",
     "output_type": "stream",
     "text": [
      "% of rare words in vocabulary: 77.17079038460308\n",
      "Total Coverage of rare words: 2.1891748297952827\n"
     ]
    }
   ],
   "source": [
    "thresh=4\n",
    "\n",
    "cnt=0\n",
    "tot_cnt=0\n",
    "freq=0\n",
    "tot_freq=0\n",
    "\n",
    "for key,value in x_tokenizer.word_counts.items():\n",
    "    tot_cnt=tot_cnt+1\n",
    "    tot_freq=tot_freq+value\n",
    "    if(value<thresh):\n",
    "        cnt=cnt+1\n",
    "        freq=freq+value\n",
    "    \n",
    "print(\"% of rare words in vocabulary:\",(cnt/tot_cnt)*100)\n",
    "print(\"Total Coverage of rare words:\",(freq/tot_freq)*100)"
   ]
  },
  {
   "cell_type": "code",
   "execution_count": 35,
   "id": "6db10bd7",
   "metadata": {
    "execution": {
     "iopub.execute_input": "2022-07-10T14:37:46.177170Z",
     "iopub.status.busy": "2022-07-10T14:37:46.176853Z",
     "iopub.status.idle": "2022-07-10T14:37:46.253927Z",
     "shell.execute_reply": "2022-07-10T14:37:46.252618Z"
    },
    "papermill": {
     "duration": 0.097611,
     "end_time": "2022-07-10T14:37:46.257028",
     "exception": false,
     "start_time": "2022-07-10T14:37:46.159417",
     "status": "completed"
    },
    "tags": []
   },
   "outputs": [],
   "source": [
    "import seaborn as sns\n",
    "from time import time"
   ]
  },
  {
   "cell_type": "code",
   "execution_count": 36,
   "id": "790a152c",
   "metadata": {
    "execution": {
     "iopub.execute_input": "2022-07-10T14:37:46.291194Z",
     "iopub.status.busy": "2022-07-10T14:37:46.290846Z",
     "iopub.status.idle": "2022-07-10T14:38:12.052329Z",
     "shell.execute_reply": "2022-07-10T14:38:12.050980Z"
    },
    "papermill": {
     "duration": 25.782642,
     "end_time": "2022-07-10T14:38:12.055922",
     "exception": false,
     "start_time": "2022-07-10T14:37:46.273280",
     "status": "completed"
    },
    "tags": []
   },
   "outputs": [
    {
     "name": "stdout",
     "output_type": "stream",
     "text": [
      "Size of vocabulary in X = 35681\n"
     ]
    }
   ],
   "source": [
    "#prepare a tokenizer for reviews on training data\n",
    "x_tokenizer = Tokenizer(num_words = tot_cnt - cnt) \n",
    "x_tokenizer.fit_on_texts(list(x_tr))\n",
    "\n",
    "#convert text sequences into integer sequences (i.e one-hot encodeing all the words)\n",
    "x_tr_seq    =   x_tokenizer.texts_to_sequences(x_tr) \n",
    "x_val_seq   =   x_tokenizer.texts_to_sequences(x_val)\n",
    "x_test_seq = x_tokenizer.texts_to_sequences(x_test)\n",
    "\n",
    "#padding zero upto maximum length\n",
    "x_tr    =   pad_sequences(x_tr_seq,  maxlen=max_text_len, padding='post')\n",
    "x_val   =   pad_sequences(x_val_seq, maxlen=max_text_len, padding='post')\n",
    "x_test = pad_sequences(x_test_seq, maxlen=max_text_len, padding='post')\n",
    "\n",
    "#size of vocabulary ( +1 for padding token)\n",
    "x_voc   =  x_tokenizer.num_words + 1\n",
    "\n",
    "print(\"Size of vocabulary in X = {}\".format(x_voc))"
   ]
  },
  {
   "cell_type": "code",
   "execution_count": 37,
   "id": "316cceec",
   "metadata": {
    "execution": {
     "iopub.execute_input": "2022-07-10T14:38:12.091362Z",
     "iopub.status.busy": "2022-07-10T14:38:12.091037Z",
     "iopub.status.idle": "2022-07-10T14:38:14.759021Z",
     "shell.execute_reply": "2022-07-10T14:38:14.756109Z"
    },
    "papermill": {
     "duration": 2.689143,
     "end_time": "2022-07-10T14:38:14.762962",
     "exception": false,
     "start_time": "2022-07-10T14:38:12.073819",
     "status": "completed"
    },
    "tags": []
   },
   "outputs": [
    {
     "name": "stdout",
     "output_type": "stream",
     "text": [
      "Size of vocabulary in Y = 35681\n"
     ]
    }
   ],
   "source": [
    "#prepare a tokenizer for reviews on training data\n",
    "y_tokenizer = Tokenizer(num_words = tot_cnt-cnt) \n",
    "y_tokenizer.fit_on_texts(list(y_tr))\n",
    "\n",
    "#convert text sequences into integer sequences (i.e one hot encode the text in Y)\n",
    "y_tr_seq    =   y_tokenizer.texts_to_sequences(y_tr) \n",
    "y_val_seq   =   y_tokenizer.texts_to_sequences(y_val) \n",
    "y_test_seq = y_tokenizer.texts_to_sequences(y_test) \n",
    "\n",
    "#padding zero upto maximum length\n",
    "y_tr    =   pad_sequences(y_tr_seq, maxlen=max_summary_len, padding='post')\n",
    "y_val   =   pad_sequences(y_val_seq, maxlen=max_summary_len, padding='post')\n",
    "y_test = pad_sequences(y_test_seq, maxlen=max_summary_len, padding='post')\n",
    "\n",
    "#size of vocabulary\n",
    "y_voc  =   y_tokenizer.num_words +1\n",
    "print(\"Size of vocabulary in Y = {}\".format(y_voc))"
   ]
  },
  {
   "cell_type": "code",
   "execution_count": 38,
   "id": "a90852b2",
   "metadata": {
    "execution": {
     "iopub.execute_input": "2022-07-10T14:38:14.797265Z",
     "iopub.status.busy": "2022-07-10T14:38:14.796959Z",
     "iopub.status.idle": "2022-07-10T14:38:16.525494Z",
     "shell.execute_reply": "2022-07-10T14:38:16.524036Z"
    },
    "papermill": {
     "duration": 1.748776,
     "end_time": "2022-07-10T14:38:16.528617",
     "exception": false,
     "start_time": "2022-07-10T14:38:14.779841",
     "status": "completed"
    },
    "tags": []
   },
   "outputs": [],
   "source": [
    "ind=[]\n",
    "for i in range(len(y_tr)):\n",
    "    cnt=0\n",
    "    for j in y_tr[i]:\n",
    "        if j!=0:\n",
    "            cnt=cnt+1\n",
    "    if(cnt==2):\n",
    "        ind.append(i)\n",
    "\n",
    "y_tr=np.delete(y_tr,ind, axis=0)\n",
    "x_tr=np.delete(x_tr,ind, axis=0)"
   ]
  },
  {
   "cell_type": "code",
   "execution_count": 39,
   "id": "f260ac24",
   "metadata": {
    "execution": {
     "iopub.execute_input": "2022-07-10T14:38:16.565330Z",
     "iopub.status.busy": "2022-07-10T14:38:16.563256Z",
     "iopub.status.idle": "2022-07-10T14:38:16.994720Z",
     "shell.execute_reply": "2022-07-10T14:38:16.993415Z"
    },
    "papermill": {
     "duration": 0.452218,
     "end_time": "2022-07-10T14:38:16.997758",
     "exception": false,
     "start_time": "2022-07-10T14:38:16.545540",
     "status": "completed"
    },
    "tags": []
   },
   "outputs": [],
   "source": [
    "ind=[]\n",
    "for i in range(len(y_val)):\n",
    "    cnt=0\n",
    "    for j in y_val[i]:\n",
    "        if j!=0:\n",
    "            cnt=cnt+1\n",
    "    if(cnt==2):\n",
    "        ind.append(i)\n",
    "\n",
    "y_val=np.delete(y_val,ind, axis=0)\n",
    "x_val=np.delete(x_val,ind, axis=0)"
   ]
  },
  {
   "cell_type": "code",
   "execution_count": 40,
   "id": "b93dab0d",
   "metadata": {
    "execution": {
     "iopub.execute_input": "2022-07-10T14:38:17.031888Z",
     "iopub.status.busy": "2022-07-10T14:38:17.031505Z",
     "iopub.status.idle": "2022-07-10T14:38:17.964111Z",
     "shell.execute_reply": "2022-07-10T14:38:17.962863Z"
    },
    "papermill": {
     "duration": 0.952983,
     "end_time": "2022-07-10T14:38:17.967271",
     "exception": false,
     "start_time": "2022-07-10T14:38:17.014288",
     "status": "completed"
    },
    "tags": []
   },
   "outputs": [],
   "source": [
    "from tensorflow.keras.backend import clear_session\n",
    "# import gensim\n",
    "import re\n",
    "# from bs4 import BeautifulSoup\n",
    "from keras.preprocessing.text import Tokenizer \n",
    "# from keras.preprocessing.sequence import pad_sequences\n",
    "from nltk.corpus import stopwords\n",
    "from tensorflow.keras.layers import Input, LSTM, Embedding, Dense, Concatenate, TimeDistributed\n",
    "from tensorflow.keras.models import Model\n",
    "from tensorflow.keras.callbacks import EarlyStopping\n",
    "import warnings\n",
    "warnings.filterwarnings(\"ignore\")"
   ]
  },
  {
   "cell_type": "code",
   "execution_count": 41,
   "id": "ead31a19",
   "metadata": {
    "execution": {
     "iopub.execute_input": "2022-07-10T14:38:18.001082Z",
     "iopub.status.busy": "2022-07-10T14:38:18.000680Z",
     "iopub.status.idle": "2022-07-10T14:38:24.835510Z",
     "shell.execute_reply": "2022-07-10T14:38:24.833227Z"
    },
    "papermill": {
     "duration": 6.854743,
     "end_time": "2022-07-10T14:38:24.838180",
     "exception": false,
     "start_time": "2022-07-10T14:38:17.983437",
     "status": "completed"
    },
    "scrolled": true,
    "tags": []
   },
   "outputs": [
    {
     "name": "stdout",
     "output_type": "stream",
     "text": [
      "Size of vocabulary from the w2v model = 35681\n",
      "Model: \"model\"\n",
      "__________________________________________________________________________________________________\n",
      " Layer (type)                   Output Shape         Param #     Connected to                     \n",
      "==================================================================================================\n",
      " input_1 (InputLayer)           [(None, 300)]        0           []                               \n",
      "                                                                                                  \n",
      " embedding (Embedding)          (None, 300, 100)     3568100     ['input_1[0][0]']                \n",
      "                                                                                                  \n",
      " lstm (LSTM)                    [(None, 300, 300),   481200      ['embedding[0][0]']              \n",
      "                                 (None, 300),                                                     \n",
      "                                 (None, 300)]                                                     \n",
      "                                                                                                  \n",
      " input_2 (InputLayer)           [(None, None)]       0           []                               \n",
      "                                                                                                  \n",
      " lstm_1 (LSTM)                  [(None, 300, 300),   721200      ['lstm[0][0]']                   \n",
      "                                 (None, 300),                                                     \n",
      "                                 (None, 300)]                                                     \n",
      "                                                                                                  \n",
      " embedding_1 (Embedding)        (None, None, 100)    3568100     ['input_2[0][0]']                \n",
      "                                                                                                  \n",
      " lstm_2 (LSTM)                  [(None, 300, 300),   721200      ['lstm_1[0][0]']                 \n",
      "                                 (None, 300),                                                     \n",
      "                                 (None, 300)]                                                     \n",
      "                                                                                                  \n",
      " lstm_3 (LSTM)                  [(None, None, 300),  481200      ['embedding_1[0][0]',            \n",
      "                                 (None, 300),                     'lstm_2[0][1]',                 \n",
      "                                 (None, 300)]                     'lstm_2[0][2]']                 \n",
      "                                                                                                  \n",
      " time_distributed (TimeDistribu  (None, None, 35681)  10739981   ['lstm_3[0][0]']                 \n",
      " ted)                                                                                             \n",
      "                                                                                                  \n",
      "==================================================================================================\n",
      "Total params: 20,280,981\n",
      "Trainable params: 20,280,981\n",
      "Non-trainable params: 0\n",
      "__________________________________________________________________________________________________\n"
     ]
    }
   ],
   "source": [
    "print(f\"Size of vocabulary from the w2v model = {x_voc}\")\n",
    "\n",
    "clear_session()\n",
    "\n",
    "latent_dim = 300\n",
    "embedding_dim = 100\n",
    "\n",
    "# Encoder\n",
    "encoder_inputs = Input(shape=(max_text_len,))\n",
    "\n",
    "#embedding layer\n",
    "enc_emb =  Embedding(x_voc, embedding_dim,trainable=True)(encoder_inputs)\n",
    "\n",
    "#encoder lstm 1\n",
    "encoder_lstm1 = LSTM(latent_dim,return_sequences=True,return_state=True,dropout=0.4,recurrent_dropout=0.4)\n",
    "encoder_output1, state_h1, state_c1 = encoder_lstm1(enc_emb)\n",
    "\n",
    "#encoder lstm 2\n",
    "encoder_lstm2 = LSTM(latent_dim,return_sequences=True,return_state=True,dropout=0.4,recurrent_dropout=0.4)\n",
    "encoder_output2, state_h2, state_c2 = encoder_lstm2(encoder_output1)\n",
    "\n",
    "#encoder lstm 3\n",
    "encoder_lstm3=LSTM(latent_dim, return_state=True, return_sequences=True,dropout=0.4,recurrent_dropout=0.4)\n",
    "encoder_outputs, state_h, state_c= encoder_lstm3(encoder_output2)\n",
    "\n",
    "# Set up the decoder, using `encoder_states` as initial state.\n",
    "decoder_inputs = Input(shape=(None,))\n",
    "\n",
    "#embedding layer\n",
    "dec_emb_layer = Embedding(y_voc, embedding_dim,trainable=True)\n",
    "dec_emb = dec_emb_layer(decoder_inputs)\n",
    "\n",
    "decoder_lstm = LSTM(latent_dim, return_sequences=True, return_state=True,dropout=0.4,recurrent_dropout=0.2)\n",
    "decoder_outputs,decoder_fwd_state, decoder_back_state = decoder_lstm(dec_emb, initial_state=[state_h, state_c])\n",
    "\n",
    "#dense layer\n",
    "decoder_dense =  TimeDistributed(Dense(y_voc, activation='softmax'))\n",
    "decoder_outputs = decoder_dense(decoder_outputs)\n",
    "\n",
    "# Define the model \n",
    "model = Model([encoder_inputs, decoder_inputs], decoder_outputs)\n",
    "\n",
    "model.summary()"
   ]
  },
  {
   "cell_type": "code",
   "execution_count": 42,
   "id": "c0d6d5bc",
   "metadata": {
    "execution": {
     "iopub.execute_input": "2022-07-10T14:38:24.877890Z",
     "iopub.status.busy": "2022-07-10T14:38:24.875281Z",
     "iopub.status.idle": "2022-07-10T14:38:26.227931Z",
     "shell.execute_reply": "2022-07-10T14:38:26.226404Z"
    },
    "papermill": {
     "duration": 1.375213,
     "end_time": "2022-07-10T14:38:26.230607",
     "exception": false,
     "start_time": "2022-07-10T14:38:24.855394",
     "status": "completed"
    },
    "tags": []
   },
   "outputs": [
    {
     "name": "stdout",
     "output_type": "stream",
     "text": [
      "You must install pydot (`pip install pydot`) and install graphviz (see instructions at https://graphviz.gitlab.io/download/) for plot_model to work.\n"
     ]
    }
   ],
   "source": [
    "tf.keras.utils.plot_model(\n",
    "    model, to_file='model.png', show_shapes=True, show_layer_names=True,\n",
    "    rankdir='TB', expand_nested=False, dpi=96\n",
    ")"
   ]
  },
  {
   "cell_type": "code",
   "execution_count": 45,
   "id": "696a9559",
   "metadata": {
    "execution": {
     "iopub.execute_input": "2022-07-10T14:38:26.268528Z",
     "iopub.status.busy": "2022-07-10T14:38:26.267899Z",
     "iopub.status.idle": "2022-07-10T14:38:26.289526Z",
     "shell.execute_reply": "2022-07-10T14:38:26.288301Z"
    },
    "papermill": {
     "duration": 0.042262,
     "end_time": "2022-07-10T14:38:26.292194",
     "exception": false,
     "start_time": "2022-07-10T14:38:26.249932",
     "status": "completed"
    },
    "tags": []
   },
   "outputs": [],
   "source": [
    "model.compile(optimizer='rmsprop', loss='sparse_categorical_crossentropy')\n",
    "\n",
    "es = EarlyStopping(monitor='val_loss', mode='min',patience=2)"
   ]
  },
  {
   "cell_type": "code",
   "execution_count": 46,
   "id": "9260401d",
   "metadata": {
    "execution": {
     "iopub.execute_input": "2022-07-10T14:38:26.330187Z",
     "iopub.status.busy": "2022-07-10T14:38:26.328871Z",
     "iopub.status.idle": "2022-07-10T19:13:58.880858Z",
     "shell.execute_reply": "2022-07-10T19:13:58.879452Z"
    },
    "papermill": {
     "duration": 16532.57402,
     "end_time": "2022-07-10T19:13:58.883668",
     "exception": false,
     "start_time": "2022-07-10T14:38:26.309648",
     "status": "completed"
    },
    "tags": []
   },
   "outputs": [
    {
     "name": "stdout",
     "output_type": "stream",
     "text": [
      "Epoch 1/10\n",
      " 14/275 [>.............................] - ETA: 6:12:55 - loss: 9.5104"
     ]
    },
    {
     "ename": "KeyboardInterrupt",
     "evalue": "",
     "output_type": "error",
     "traceback": [
      "\u001b[1;31m---------------------------------------------------------------------------\u001b[0m",
      "\u001b[1;31mKeyboardInterrupt\u001b[0m                         Traceback (most recent call last)",
      "\u001b[1;32m~\\AppData\\Local\\Temp\\ipykernel_1976\\1109905418.py\u001b[0m in \u001b[0;36m<module>\u001b[1;34m\u001b[0m\n\u001b[1;32m----> 1\u001b[1;33m \u001b[0mhistory\u001b[0m\u001b[1;33m=\u001b[0m\u001b[0mmodel\u001b[0m\u001b[1;33m.\u001b[0m\u001b[0mfit\u001b[0m\u001b[1;33m(\u001b[0m\u001b[1;33m[\u001b[0m\u001b[0mx_tr\u001b[0m\u001b[1;33m,\u001b[0m\u001b[0my_tr\u001b[0m\u001b[1;33m[\u001b[0m\u001b[1;33m:\u001b[0m\u001b[1;33m,\u001b[0m\u001b[1;33m:\u001b[0m\u001b[1;33m-\u001b[0m\u001b[1;36m1\u001b[0m\u001b[1;33m]\u001b[0m\u001b[1;33m]\u001b[0m\u001b[1;33m,\u001b[0m \u001b[0my_tr\u001b[0m\u001b[1;33m.\u001b[0m\u001b[0mreshape\u001b[0m\u001b[1;33m(\u001b[0m\u001b[0my_tr\u001b[0m\u001b[1;33m.\u001b[0m\u001b[0mshape\u001b[0m\u001b[1;33m[\u001b[0m\u001b[1;36m0\u001b[0m\u001b[1;33m]\u001b[0m\u001b[1;33m,\u001b[0m\u001b[0my_tr\u001b[0m\u001b[1;33m.\u001b[0m\u001b[0mshape\u001b[0m\u001b[1;33m[\u001b[0m\u001b[1;36m1\u001b[0m\u001b[1;33m]\u001b[0m\u001b[1;33m,\u001b[0m \u001b[1;36m1\u001b[0m\u001b[1;33m)\u001b[0m\u001b[1;33m[\u001b[0m\u001b[1;33m:\u001b[0m\u001b[1;33m,\u001b[0m\u001b[1;36m1\u001b[0m\u001b[1;33m:\u001b[0m\u001b[1;33m]\u001b[0m \u001b[1;33m,\u001b[0m\u001b[0mepochs\u001b[0m\u001b[1;33m=\u001b[0m\u001b[1;36m10\u001b[0m\u001b[1;33m,\u001b[0m\u001b[0mcallbacks\u001b[0m\u001b[1;33m=\u001b[0m\u001b[1;33m[\u001b[0m\u001b[0mes\u001b[0m\u001b[1;33m]\u001b[0m\u001b[1;33m,\u001b[0m\u001b[0mbatch_size\u001b[0m\u001b[1;33m=\u001b[0m\u001b[1;36m128\u001b[0m\u001b[1;33m,\u001b[0m \u001b[0mvalidation_data\u001b[0m\u001b[1;33m=\u001b[0m\u001b[1;33m(\u001b[0m\u001b[1;33m[\u001b[0m\u001b[0mx_val\u001b[0m\u001b[1;33m,\u001b[0m\u001b[0my_val\u001b[0m\u001b[1;33m[\u001b[0m\u001b[1;33m:\u001b[0m\u001b[1;33m,\u001b[0m\u001b[1;33m:\u001b[0m\u001b[1;33m-\u001b[0m\u001b[1;36m1\u001b[0m\u001b[1;33m]\u001b[0m\u001b[1;33m]\u001b[0m\u001b[1;33m,\u001b[0m \u001b[0my_val\u001b[0m\u001b[1;33m.\u001b[0m\u001b[0mreshape\u001b[0m\u001b[1;33m(\u001b[0m\u001b[0my_val\u001b[0m\u001b[1;33m.\u001b[0m\u001b[0mshape\u001b[0m\u001b[1;33m[\u001b[0m\u001b[1;36m0\u001b[0m\u001b[1;33m]\u001b[0m\u001b[1;33m,\u001b[0m\u001b[0my_val\u001b[0m\u001b[1;33m.\u001b[0m\u001b[0mshape\u001b[0m\u001b[1;33m[\u001b[0m\u001b[1;36m1\u001b[0m\u001b[1;33m]\u001b[0m\u001b[1;33m,\u001b[0m \u001b[1;36m1\u001b[0m\u001b[1;33m)\u001b[0m\u001b[1;33m[\u001b[0m\u001b[1;33m:\u001b[0m\u001b[1;33m,\u001b[0m\u001b[1;36m1\u001b[0m\u001b[1;33m:\u001b[0m\u001b[1;33m]\u001b[0m\u001b[1;33m)\u001b[0m\u001b[1;33m)\u001b[0m\u001b[1;33m\u001b[0m\u001b[1;33m\u001b[0m\u001b[0m\n\u001b[0m",
      "\u001b[1;32m~\\anaconda3\\lib\\site-packages\\keras\\utils\\traceback_utils.py\u001b[0m in \u001b[0;36merror_handler\u001b[1;34m(*args, **kwargs)\u001b[0m\n\u001b[0;32m     63\u001b[0m         \u001b[0mfiltered_tb\u001b[0m \u001b[1;33m=\u001b[0m \u001b[1;32mNone\u001b[0m\u001b[1;33m\u001b[0m\u001b[1;33m\u001b[0m\u001b[0m\n\u001b[0;32m     64\u001b[0m         \u001b[1;32mtry\u001b[0m\u001b[1;33m:\u001b[0m\u001b[1;33m\u001b[0m\u001b[1;33m\u001b[0m\u001b[0m\n\u001b[1;32m---> 65\u001b[1;33m             \u001b[1;32mreturn\u001b[0m \u001b[0mfn\u001b[0m\u001b[1;33m(\u001b[0m\u001b[1;33m*\u001b[0m\u001b[0margs\u001b[0m\u001b[1;33m,\u001b[0m \u001b[1;33m**\u001b[0m\u001b[0mkwargs\u001b[0m\u001b[1;33m)\u001b[0m\u001b[1;33m\u001b[0m\u001b[1;33m\u001b[0m\u001b[0m\n\u001b[0m\u001b[0;32m     66\u001b[0m         \u001b[1;32mexcept\u001b[0m \u001b[0mException\u001b[0m \u001b[1;32mas\u001b[0m \u001b[0me\u001b[0m\u001b[1;33m:\u001b[0m\u001b[1;33m\u001b[0m\u001b[1;33m\u001b[0m\u001b[0m\n\u001b[0;32m     67\u001b[0m             \u001b[0mfiltered_tb\u001b[0m \u001b[1;33m=\u001b[0m \u001b[0m_process_traceback_frames\u001b[0m\u001b[1;33m(\u001b[0m\u001b[0me\u001b[0m\u001b[1;33m.\u001b[0m\u001b[0m__traceback__\u001b[0m\u001b[1;33m)\u001b[0m\u001b[1;33m\u001b[0m\u001b[1;33m\u001b[0m\u001b[0m\n",
      "\u001b[1;32m~\\anaconda3\\lib\\site-packages\\keras\\engine\\training.py\u001b[0m in \u001b[0;36mfit\u001b[1;34m(self, x, y, batch_size, epochs, verbose, callbacks, validation_split, validation_data, shuffle, class_weight, sample_weight, initial_epoch, steps_per_epoch, validation_steps, validation_batch_size, validation_freq, max_queue_size, workers, use_multiprocessing)\u001b[0m\n\u001b[0;32m   1648\u001b[0m                         ):\n\u001b[0;32m   1649\u001b[0m                             \u001b[0mcallbacks\u001b[0m\u001b[1;33m.\u001b[0m\u001b[0mon_train_batch_begin\u001b[0m\u001b[1;33m(\u001b[0m\u001b[0mstep\u001b[0m\u001b[1;33m)\u001b[0m\u001b[1;33m\u001b[0m\u001b[1;33m\u001b[0m\u001b[0m\n\u001b[1;32m-> 1650\u001b[1;33m                             \u001b[0mtmp_logs\u001b[0m \u001b[1;33m=\u001b[0m \u001b[0mself\u001b[0m\u001b[1;33m.\u001b[0m\u001b[0mtrain_function\u001b[0m\u001b[1;33m(\u001b[0m\u001b[0miterator\u001b[0m\u001b[1;33m)\u001b[0m\u001b[1;33m\u001b[0m\u001b[1;33m\u001b[0m\u001b[0m\n\u001b[0m\u001b[0;32m   1651\u001b[0m                             \u001b[1;32mif\u001b[0m \u001b[0mdata_handler\u001b[0m\u001b[1;33m.\u001b[0m\u001b[0mshould_sync\u001b[0m\u001b[1;33m:\u001b[0m\u001b[1;33m\u001b[0m\u001b[1;33m\u001b[0m\u001b[0m\n\u001b[0;32m   1652\u001b[0m                                 \u001b[0mcontext\u001b[0m\u001b[1;33m.\u001b[0m\u001b[0masync_wait\u001b[0m\u001b[1;33m(\u001b[0m\u001b[1;33m)\u001b[0m\u001b[1;33m\u001b[0m\u001b[1;33m\u001b[0m\u001b[0m\n",
      "\u001b[1;32m~\\anaconda3\\lib\\site-packages\\tensorflow\\python\\util\\traceback_utils.py\u001b[0m in \u001b[0;36merror_handler\u001b[1;34m(*args, **kwargs)\u001b[0m\n\u001b[0;32m    148\u001b[0m     \u001b[0mfiltered_tb\u001b[0m \u001b[1;33m=\u001b[0m \u001b[1;32mNone\u001b[0m\u001b[1;33m\u001b[0m\u001b[1;33m\u001b[0m\u001b[0m\n\u001b[0;32m    149\u001b[0m     \u001b[1;32mtry\u001b[0m\u001b[1;33m:\u001b[0m\u001b[1;33m\u001b[0m\u001b[1;33m\u001b[0m\u001b[0m\n\u001b[1;32m--> 150\u001b[1;33m       \u001b[1;32mreturn\u001b[0m \u001b[0mfn\u001b[0m\u001b[1;33m(\u001b[0m\u001b[1;33m*\u001b[0m\u001b[0margs\u001b[0m\u001b[1;33m,\u001b[0m \u001b[1;33m**\u001b[0m\u001b[0mkwargs\u001b[0m\u001b[1;33m)\u001b[0m\u001b[1;33m\u001b[0m\u001b[1;33m\u001b[0m\u001b[0m\n\u001b[0m\u001b[0;32m    151\u001b[0m     \u001b[1;32mexcept\u001b[0m \u001b[0mException\u001b[0m \u001b[1;32mas\u001b[0m \u001b[0me\u001b[0m\u001b[1;33m:\u001b[0m\u001b[1;33m\u001b[0m\u001b[1;33m\u001b[0m\u001b[0m\n\u001b[0;32m    152\u001b[0m       \u001b[0mfiltered_tb\u001b[0m \u001b[1;33m=\u001b[0m \u001b[0m_process_traceback_frames\u001b[0m\u001b[1;33m(\u001b[0m\u001b[0me\u001b[0m\u001b[1;33m.\u001b[0m\u001b[0m__traceback__\u001b[0m\u001b[1;33m)\u001b[0m\u001b[1;33m\u001b[0m\u001b[1;33m\u001b[0m\u001b[0m\n",
      "\u001b[1;32m~\\anaconda3\\lib\\site-packages\\tensorflow\\python\\eager\\polymorphic_function\\polymorphic_function.py\u001b[0m in \u001b[0;36m__call__\u001b[1;34m(self, *args, **kwds)\u001b[0m\n\u001b[0;32m    878\u001b[0m \u001b[1;33m\u001b[0m\u001b[0m\n\u001b[0;32m    879\u001b[0m       \u001b[1;32mwith\u001b[0m \u001b[0mOptionalXlaContext\u001b[0m\u001b[1;33m(\u001b[0m\u001b[0mself\u001b[0m\u001b[1;33m.\u001b[0m\u001b[0m_jit_compile\u001b[0m\u001b[1;33m)\u001b[0m\u001b[1;33m:\u001b[0m\u001b[1;33m\u001b[0m\u001b[1;33m\u001b[0m\u001b[0m\n\u001b[1;32m--> 880\u001b[1;33m         \u001b[0mresult\u001b[0m \u001b[1;33m=\u001b[0m \u001b[0mself\u001b[0m\u001b[1;33m.\u001b[0m\u001b[0m_call\u001b[0m\u001b[1;33m(\u001b[0m\u001b[1;33m*\u001b[0m\u001b[0margs\u001b[0m\u001b[1;33m,\u001b[0m \u001b[1;33m**\u001b[0m\u001b[0mkwds\u001b[0m\u001b[1;33m)\u001b[0m\u001b[1;33m\u001b[0m\u001b[1;33m\u001b[0m\u001b[0m\n\u001b[0m\u001b[0;32m    881\u001b[0m \u001b[1;33m\u001b[0m\u001b[0m\n\u001b[0;32m    882\u001b[0m       \u001b[0mnew_tracing_count\u001b[0m \u001b[1;33m=\u001b[0m \u001b[0mself\u001b[0m\u001b[1;33m.\u001b[0m\u001b[0mexperimental_get_tracing_count\u001b[0m\u001b[1;33m(\u001b[0m\u001b[1;33m)\u001b[0m\u001b[1;33m\u001b[0m\u001b[1;33m\u001b[0m\u001b[0m\n",
      "\u001b[1;32m~\\anaconda3\\lib\\site-packages\\tensorflow\\python\\eager\\polymorphic_function\\polymorphic_function.py\u001b[0m in \u001b[0;36m_call\u001b[1;34m(self, *args, **kwds)\u001b[0m\n\u001b[0;32m    910\u001b[0m       \u001b[1;31m# In this case we have created variables on the first call, so we run the\u001b[0m\u001b[1;33m\u001b[0m\u001b[1;33m\u001b[0m\u001b[0m\n\u001b[0;32m    911\u001b[0m       \u001b[1;31m# defunned version which is guaranteed to never create variables.\u001b[0m\u001b[1;33m\u001b[0m\u001b[1;33m\u001b[0m\u001b[0m\n\u001b[1;32m--> 912\u001b[1;33m       \u001b[1;32mreturn\u001b[0m \u001b[0mself\u001b[0m\u001b[1;33m.\u001b[0m\u001b[0m_no_variable_creation_fn\u001b[0m\u001b[1;33m(\u001b[0m\u001b[1;33m*\u001b[0m\u001b[0margs\u001b[0m\u001b[1;33m,\u001b[0m \u001b[1;33m**\u001b[0m\u001b[0mkwds\u001b[0m\u001b[1;33m)\u001b[0m  \u001b[1;31m# pylint: disable=not-callable\u001b[0m\u001b[1;33m\u001b[0m\u001b[1;33m\u001b[0m\u001b[0m\n\u001b[0m\u001b[0;32m    913\u001b[0m     \u001b[1;32melif\u001b[0m \u001b[0mself\u001b[0m\u001b[1;33m.\u001b[0m\u001b[0m_variable_creation_fn\u001b[0m \u001b[1;32mis\u001b[0m \u001b[1;32mnot\u001b[0m \u001b[1;32mNone\u001b[0m\u001b[1;33m:\u001b[0m\u001b[1;33m\u001b[0m\u001b[1;33m\u001b[0m\u001b[0m\n\u001b[0;32m    914\u001b[0m       \u001b[1;31m# Release the lock early so that multiple threads can perform the call\u001b[0m\u001b[1;33m\u001b[0m\u001b[1;33m\u001b[0m\u001b[0m\n",
      "\u001b[1;32m~\\anaconda3\\lib\\site-packages\\tensorflow\\python\\eager\\polymorphic_function\\tracing_compiler.py\u001b[0m in \u001b[0;36m__call__\u001b[1;34m(self, *args, **kwargs)\u001b[0m\n\u001b[0;32m    132\u001b[0m       (concrete_function,\n\u001b[0;32m    133\u001b[0m        filtered_flat_args) = self._maybe_define_function(args, kwargs)\n\u001b[1;32m--> 134\u001b[1;33m     return concrete_function._call_flat(\n\u001b[0m\u001b[0;32m    135\u001b[0m         filtered_flat_args, captured_inputs=concrete_function.captured_inputs)  # pylint: disable=protected-access\n\u001b[0;32m    136\u001b[0m \u001b[1;33m\u001b[0m\u001b[0m\n",
      "\u001b[1;32m~\\anaconda3\\lib\\site-packages\\tensorflow\\python\\eager\\polymorphic_function\\monomorphic_function.py\u001b[0m in \u001b[0;36m_call_flat\u001b[1;34m(self, args, captured_inputs, cancellation_manager)\u001b[0m\n\u001b[0;32m   1743\u001b[0m         and executing_eagerly):\n\u001b[0;32m   1744\u001b[0m       \u001b[1;31m# No tape is watching; skip to running the function.\u001b[0m\u001b[1;33m\u001b[0m\u001b[1;33m\u001b[0m\u001b[0m\n\u001b[1;32m-> 1745\u001b[1;33m       return self._build_call_outputs(self._inference_function.call(\n\u001b[0m\u001b[0;32m   1746\u001b[0m           ctx, args, cancellation_manager=cancellation_manager))\n\u001b[0;32m   1747\u001b[0m     forward_backward = self._select_forward_and_backward_functions(\n",
      "\u001b[1;32m~\\anaconda3\\lib\\site-packages\\tensorflow\\python\\eager\\polymorphic_function\\monomorphic_function.py\u001b[0m in \u001b[0;36mcall\u001b[1;34m(self, ctx, args, cancellation_manager)\u001b[0m\n\u001b[0;32m    376\u001b[0m       \u001b[1;32mwith\u001b[0m \u001b[0m_InterpolateFunctionError\u001b[0m\u001b[1;33m(\u001b[0m\u001b[0mself\u001b[0m\u001b[1;33m)\u001b[0m\u001b[1;33m:\u001b[0m\u001b[1;33m\u001b[0m\u001b[1;33m\u001b[0m\u001b[0m\n\u001b[0;32m    377\u001b[0m         \u001b[1;32mif\u001b[0m \u001b[0mcancellation_manager\u001b[0m \u001b[1;32mis\u001b[0m \u001b[1;32mNone\u001b[0m\u001b[1;33m:\u001b[0m\u001b[1;33m\u001b[0m\u001b[1;33m\u001b[0m\u001b[0m\n\u001b[1;32m--> 378\u001b[1;33m           outputs = execute.execute(\n\u001b[0m\u001b[0;32m    379\u001b[0m               \u001b[0mstr\u001b[0m\u001b[1;33m(\u001b[0m\u001b[0mself\u001b[0m\u001b[1;33m.\u001b[0m\u001b[0msignature\u001b[0m\u001b[1;33m.\u001b[0m\u001b[0mname\u001b[0m\u001b[1;33m)\u001b[0m\u001b[1;33m,\u001b[0m\u001b[1;33m\u001b[0m\u001b[1;33m\u001b[0m\u001b[0m\n\u001b[0;32m    380\u001b[0m               \u001b[0mnum_outputs\u001b[0m\u001b[1;33m=\u001b[0m\u001b[0mself\u001b[0m\u001b[1;33m.\u001b[0m\u001b[0m_num_outputs\u001b[0m\u001b[1;33m,\u001b[0m\u001b[1;33m\u001b[0m\u001b[1;33m\u001b[0m\u001b[0m\n",
      "\u001b[1;32m~\\anaconda3\\lib\\site-packages\\tensorflow\\python\\eager\\execute.py\u001b[0m in \u001b[0;36mquick_execute\u001b[1;34m(op_name, num_outputs, inputs, attrs, ctx, name)\u001b[0m\n\u001b[0;32m     50\u001b[0m   \u001b[1;32mtry\u001b[0m\u001b[1;33m:\u001b[0m\u001b[1;33m\u001b[0m\u001b[1;33m\u001b[0m\u001b[0m\n\u001b[0;32m     51\u001b[0m     \u001b[0mctx\u001b[0m\u001b[1;33m.\u001b[0m\u001b[0mensure_initialized\u001b[0m\u001b[1;33m(\u001b[0m\u001b[1;33m)\u001b[0m\u001b[1;33m\u001b[0m\u001b[1;33m\u001b[0m\u001b[0m\n\u001b[1;32m---> 52\u001b[1;33m     tensors = pywrap_tfe.TFE_Py_Execute(ctx._handle, device_name, op_name,\n\u001b[0m\u001b[0;32m     53\u001b[0m                                         inputs, attrs, num_outputs)\n\u001b[0;32m     54\u001b[0m   \u001b[1;32mexcept\u001b[0m \u001b[0mcore\u001b[0m\u001b[1;33m.\u001b[0m\u001b[0m_NotOkStatusException\u001b[0m \u001b[1;32mas\u001b[0m \u001b[0me\u001b[0m\u001b[1;33m:\u001b[0m\u001b[1;33m\u001b[0m\u001b[1;33m\u001b[0m\u001b[0m\n",
      "\u001b[1;31mKeyboardInterrupt\u001b[0m: "
     ]
    }
   ],
   "source": [
    "history=model.fit([x_tr,y_tr[:,:-1]], y_tr.reshape(y_tr.shape[0],y_tr.shape[1], 1)[:,1:] ,epochs=10,callbacks=[es],batch_size=128, validation_data=([x_val,y_val[:,:-1]], y_val.reshape(y_val.shape[0],y_val.shape[1], 1)[:,1:]))"
   ]
  },
  {
   "cell_type": "code",
   "execution_count": null,
   "id": "8f741f71",
   "metadata": {
    "execution": {
     "iopub.execute_input": "2022-07-10T19:13:59.287467Z",
     "iopub.status.busy": "2022-07-10T19:13:59.287121Z",
     "iopub.status.idle": "2022-07-10T19:13:59.618037Z",
     "shell.execute_reply": "2022-07-10T19:13:59.616754Z"
    },
    "papermill": {
     "duration": 0.536612,
     "end_time": "2022-07-10T19:13:59.620841",
     "exception": false,
     "start_time": "2022-07-10T19:13:59.084229",
     "status": "completed"
    },
    "tags": []
   },
   "outputs": [],
   "source": [
    "model.save(\"HindiTextModel.h5\")"
   ]
  },
  {
   "cell_type": "code",
   "execution_count": null,
   "id": "259fae59",
   "metadata": {
    "execution": {
     "iopub.execute_input": "2022-07-10T19:14:00.017109Z",
     "iopub.status.busy": "2022-07-10T19:14:00.016782Z",
     "iopub.status.idle": "2022-07-10T19:14:00.148950Z",
     "shell.execute_reply": "2022-07-10T19:14:00.147817Z"
    },
    "papermill": {
     "duration": 0.339599,
     "end_time": "2022-07-10T19:14:00.151668",
     "exception": false,
     "start_time": "2022-07-10T19:13:59.812069",
     "status": "completed"
    },
    "tags": []
   },
   "outputs": [],
   "source": [
    "reverse_target_word_index=y_tokenizer.index_word\n",
    "reverse_source_word_index=x_tokenizer.index_word\n",
    "target_word_index=y_tokenizer.word_index\n",
    "\n",
    "# Encode the input sequence to get the feature vector\n",
    "encoder_model = Model(inputs=encoder_inputs,outputs=[encoder_outputs, state_h, state_c])\n",
    "\n",
    "# Decoder setup\n",
    "# Below tensors will hold the states of the previous time step\n",
    "decoder_state_input_h = Input(shape=(latent_dim,))\n",
    "decoder_state_input_c = Input(shape=(latent_dim,))\n",
    "decoder_hidden_state_input = Input(shape=(max_text_len,latent_dim))\n",
    "\n",
    "# Get the embeddings of the decoder sequence\n",
    "dec_emb2= dec_emb_layer(decoder_inputs) \n",
    "# To predict the next word in the sequence, set the initial states to the states from the previous time step\n",
    "decoder_outputs2, state_h2, state_c2 = decoder_lstm(dec_emb2, initial_state=[decoder_state_input_h, decoder_state_input_c])\n",
    "\n",
    "# A dense softmax layer to generate prob dist. over the target vocabulary\n",
    "decoder_outputs2 = decoder_dense(decoder_outputs2) \n",
    "\n",
    "# Final decoder model\n",
    "decoder_model = Model(\n",
    "    [decoder_inputs] + [decoder_hidden_state_input,decoder_state_input_h, decoder_state_input_c],\n",
    "    [decoder_outputs2] + [state_h2, state_c2])\n"
   ]
  },
  {
   "cell_type": "code",
   "execution_count": null,
   "id": "50d1e3a5",
   "metadata": {
    "execution": {
     "iopub.execute_input": "2022-07-10T19:14:00.529565Z",
     "iopub.status.busy": "2022-07-10T19:14:00.527626Z",
     "iopub.status.idle": "2022-07-10T19:14:00.538813Z",
     "shell.execute_reply": "2022-07-10T19:14:00.537704Z"
    },
    "papermill": {
     "duration": 0.204268,
     "end_time": "2022-07-10T19:14:00.541665",
     "exception": false,
     "start_time": "2022-07-10T19:14:00.337397",
     "status": "completed"
    },
    "tags": []
   },
   "outputs": [],
   "source": [
    "def decode_sequence(input_seq):\n",
    "    # Encode the input as state vectors.\n",
    "    e_out, e_h, e_c = encoder_model.predict(input_seq)\n",
    "    \n",
    "    # Generate empty target sequence of length 1.\n",
    "    target_seq = np.zeros((1,1))\n",
    "    \n",
    "    # Populate the first word of target sequence with the start word.\n",
    "    target_seq[0, 0] = target_word_index['sostok']\n",
    "\n",
    "    stop_condition = False\n",
    "    decoded_sentence = ''\n",
    "    while not stop_condition:\n",
    "      \n",
    "        output_tokens, h, c = decoder_model.predict([target_seq] + [e_out, e_h, e_c])\n",
    "\n",
    "        # Sample a token\n",
    "        sampled_token_index = np.argmax(output_tokens[0, -1, :])\n",
    "        sampled_token = reverse_target_word_index[sampled_token_index]\n",
    "        \n",
    "        if(sampled_token!='eostok'):\n",
    "            decoded_sentence += ' '+sampled_token\n",
    "\n",
    "        # Exit condition: either hit max length or find stop word.\n",
    "        if (sampled_token == 'eostok'  or len(decoded_sentence.split()) >= (max_summary_len-1)):\n",
    "            stop_condition = True\n",
    "\n",
    "        # Update the target sequence (of length 1).\n",
    "        target_seq = np.zeros((1,1))\n",
    "        target_seq[0, 0] = sampled_token_index\n",
    "\n",
    "        # Update internal states\n",
    "        e_h, e_c = h, c\n",
    "\n",
    "    return decoded_sentence"
   ]
  },
  {
   "cell_type": "code",
   "execution_count": null,
   "id": "0f8a507a",
   "metadata": {
    "execution": {
     "iopub.execute_input": "2022-07-10T19:14:00.925994Z",
     "iopub.status.busy": "2022-07-10T19:14:00.925635Z",
     "iopub.status.idle": "2022-07-10T19:14:00.933099Z",
     "shell.execute_reply": "2022-07-10T19:14:00.931764Z"
    },
    "papermill": {
     "duration": 0.205694,
     "end_time": "2022-07-10T19:14:00.935425",
     "exception": false,
     "start_time": "2022-07-10T19:14:00.729731",
     "status": "completed"
    },
    "tags": []
   },
   "outputs": [],
   "source": [
    "def seq2summary(input_seq):\n",
    "    newString=''\n",
    "    for i in input_seq:\n",
    "        if((i!=0 and i!=target_word_index['sostok']) and i!=target_word_index['eostok']):\n",
    "            newString=newString+reverse_target_word_index[i]+' '\n",
    "    return newString\n",
    "\n",
    "def seq2text(input_seq):\n",
    "    newString=''\n",
    "    for i in input_seq:\n",
    "        if(i!=0):\n",
    "            newString=newString+reverse_source_word_index[i]+' '\n",
    "    return newString"
   ]
  },
  {
   "cell_type": "code",
   "execution_count": null,
   "id": "1231c1cc",
   "metadata": {
    "execution": {
     "iopub.execute_input": "2022-07-10T19:14:01.365642Z",
     "iopub.status.busy": "2022-07-10T19:14:01.365184Z",
     "iopub.status.idle": "2022-07-10T19:14:09.742320Z",
     "shell.execute_reply": "2022-07-10T19:14:09.739726Z"
    },
    "papermill": {
     "duration": 8.622672,
     "end_time": "2022-07-10T19:14:09.746656",
     "exception": false,
     "start_time": "2022-07-10T19:14:01.123984",
     "status": "completed"
    },
    "tags": []
   },
   "outputs": [],
   "source": [
    "for i in range(0,10):\n",
    "    print(\"Review:\",seq2text(x_tr[i]))\n",
    "    print(\"Original summary:\",seq2summary(y_tr[i]))\n",
    "    print(\"Predicted summary:\",decode_sequence(x_tr[i].reshape(1,max_text_len)))\n",
    "    print(\"\\n\")"
   ]
  },
  {
   "cell_type": "code",
   "execution_count": null,
   "id": "77e76e03",
   "metadata": {
    "execution": {
     "iopub.execute_input": "2022-07-10T19:14:10.152291Z",
     "iopub.status.busy": "2022-07-10T19:14:10.151932Z",
     "iopub.status.idle": "2022-07-10T19:14:11.022521Z",
     "shell.execute_reply": "2022-07-10T19:14:11.021298Z"
    },
    "papermill": {
     "duration": 1.071108,
     "end_time": "2022-07-10T19:14:11.025164",
     "exception": false,
     "start_time": "2022-07-10T19:14:09.954056",
     "status": "completed"
    },
    "tags": []
   },
   "outputs": [],
   "source": [
    "from tensorflow.keras.models import load_model\n",
    "new_model = load_model(\"HindiTextModel.h5\")"
   ]
  }
 ],
 "metadata": {
  "kernelspec": {
   "display_name": "Python 3 (ipykernel)",
   "language": "python",
   "name": "python3"
  },
  "language_info": {
   "codemirror_mode": {
    "name": "ipython",
    "version": 3
   },
   "file_extension": ".py",
   "mimetype": "text/x-python",
   "name": "python",
   "nbconvert_exporter": "python",
   "pygments_lexer": "ipython3",
   "version": "3.9.13"
  },
  "papermill": {
   "default_parameters": {},
   "duration": 16702.294068,
   "end_time": "2022-07-10T19:14:14.152607",
   "environment_variables": {},
   "exception": null,
   "input_path": "__notebook__.ipynb",
   "output_path": "__notebook__.ipynb",
   "parameters": {},
   "start_time": "2022-07-10T14:35:51.858539",
   "version": "2.3.4"
  }
 },
 "nbformat": 4,
 "nbformat_minor": 5
}
